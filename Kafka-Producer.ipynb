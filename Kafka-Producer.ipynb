{
 "cells": [
  {
   "cell_type": "code",
   "execution_count": 1,
   "metadata": {},
   "outputs": [
    {
     "name": "stdout",
     "output_type": "stream",
     "text": [
      "Collecting kafka-python\n",
      "  Downloading kafka_python-2.0.2-py2.py3-none-any.whl.metadata (7.8 kB)\n",
      "Downloading kafka_python-2.0.2-py2.py3-none-any.whl (246 kB)\n",
      "   ---------------------------------------- 0.0/246.5 kB ? eta -:--:--\n",
      "   - -------------------------------------- 10.2/246.5 kB ? eta -:--:--\n",
      "   ---- ---------------------------------- 30.7/246.5 kB 435.7 kB/s eta 0:00:01\n",
      "   ------------------------------- -------- 194.6/246.5 kB 2.0 MB/s eta 0:00:01\n",
      "   ---------------------------------------- 246.5/246.5 kB 2.1 MB/s eta 0:00:00\n",
      "Installing collected packages: kafka-python\n",
      "Successfully installed kafka-python-2.0.2\n",
      "Note: you may need to restart the kernel to use updated packages.\n"
     ]
    },
    {
     "name": "stderr",
     "output_type": "stream",
     "text": [
      "\n",
      "[notice] A new release of pip is available: 24.0 -> 24.2\n",
      "[notice] To update, run: python.exe -m pip install --upgrade pip\n"
     ]
    }
   ],
   "source": [
    "pip install kafka-python"
   ]
  },
  {
   "cell_type": "code",
   "execution_count": 3,
   "metadata": {},
   "outputs": [
    {
     "name": "stdout",
     "output_type": "stream",
     "text": [
      "Collecting pandas\n",
      "  Downloading pandas-2.2.2-cp311-cp311-win_amd64.whl.metadata (19 kB)\n",
      "Collecting numpy>=1.23.2 (from pandas)\n",
      "  Downloading numpy-2.1.0-cp311-cp311-win_amd64.whl.metadata (59 kB)\n",
      "     ---------------------------------------- 0.0/59.7 kB ? eta -:--:--\n",
      "     ---------------------------------------- 59.7/59.7 kB 3.3 MB/s eta 0:00:00\n",
      "Requirement already satisfied: python-dateutil>=2.8.2 in c:\\users\\suganth a\\appdata\\roaming\\python\\python311\\site-packages (from pandas) (2.9.0.post0)\n",
      "Collecting pytz>=2020.1 (from pandas)\n",
      "  Downloading pytz-2024.1-py2.py3-none-any.whl.metadata (22 kB)\n",
      "Collecting tzdata>=2022.7 (from pandas)\n",
      "  Downloading tzdata-2024.1-py2.py3-none-any.whl.metadata (1.4 kB)\n",
      "Requirement already satisfied: six>=1.5 in c:\\users\\suganth a\\appdata\\roaming\\python\\python311\\site-packages (from python-dateutil>=2.8.2->pandas) (1.16.0)\n",
      "Downloading pandas-2.2.2-cp311-cp311-win_amd64.whl (11.6 MB)\n",
      "   ---------------------------------------- 0.0/11.6 MB ? eta -:--:--\n",
      "   -- ------------------------------------- 0.7/11.6 MB 13.7 MB/s eta 0:00:01\n",
      "   ----- ---------------------------------- 1.7/11.6 MB 18.4 MB/s eta 0:00:01\n",
      "   ------ --------------------------------- 1.9/11.6 MB 15.4 MB/s eta 0:00:01\n",
      "   ------ --------------------------------- 1.9/11.6 MB 15.4 MB/s eta 0:00:01\n",
      "   ------ --------------------------------- 1.9/11.6 MB 15.4 MB/s eta 0:00:01\n",
      "   ------ --------------------------------- 1.9/11.6 MB 15.4 MB/s eta 0:00:01\n",
      "   ------ --------------------------------- 1.9/11.6 MB 15.4 MB/s eta 0:00:01\n",
      "   ------- -------------------------------- 2.2/11.6 MB 5.6 MB/s eta 0:00:02\n",
      "   ----------- ---------------------------- 3.3/11.6 MB 7.6 MB/s eta 0:00:02\n",
      "   ------------ --------------------------- 3.6/11.6 MB 8.0 MB/s eta 0:00:01\n",
      "   ------------ --------------------------- 3.6/11.6 MB 8.0 MB/s eta 0:00:01\n",
      "   ------------ --------------------------- 3.6/11.6 MB 8.0 MB/s eta 0:00:01\n",
      "   ------------ --------------------------- 3.6/11.6 MB 8.0 MB/s eta 0:00:01\n",
      "   ------------ --------------------------- 3.7/11.6 MB 5.4 MB/s eta 0:00:02\n",
      "   --------------- ------------------------ 4.6/11.6 MB 6.2 MB/s eta 0:00:02\n",
      "   ------------------ --------------------- 5.4/11.6 MB 6.8 MB/s eta 0:00:01\n",
      "   ------------------- -------------------- 5.8/11.6 MB 6.8 MB/s eta 0:00:01\n",
      "   --------------------- ------------------ 6.1/11.6 MB 6.8 MB/s eta 0:00:01\n",
      "   ---------------------- ----------------- 6.5/11.6 MB 6.8 MB/s eta 0:00:01\n",
      "   ---------------------- ----------------- 6.6/11.6 MB 6.5 MB/s eta 0:00:01\n",
      "   ----------------------- ---------------- 6.8/11.6 MB 6.4 MB/s eta 0:00:01\n",
      "   ----------------------- ---------------- 6.9/11.6 MB 6.2 MB/s eta 0:00:01\n",
      "   ------------------------ --------------- 7.1/11.6 MB 6.0 MB/s eta 0:00:01\n",
      "   ------------------------ --------------- 7.2/11.6 MB 6.0 MB/s eta 0:00:01\n",
      "   ------------------------- -------------- 7.4/11.6 MB 5.9 MB/s eta 0:00:01\n",
      "   -------------------------- ------------- 7.6/11.6 MB 5.9 MB/s eta 0:00:01\n",
      "   --------------------------- ------------ 8.0/11.6 MB 5.9 MB/s eta 0:00:01\n",
      "   ---------------------------- ----------- 8.3/11.6 MB 5.9 MB/s eta 0:00:01\n",
      "   ------------------------------ --------- 8.7/11.6 MB 5.9 MB/s eta 0:00:01\n",
      "   ------------------------------- -------- 9.1/11.6 MB 6.0 MB/s eta 0:00:01\n",
      "   -------------------------------- ------- 9.5/11.6 MB 6.0 MB/s eta 0:00:01\n",
      "   ---------------------------------- ----- 10.1/11.6 MB 6.1 MB/s eta 0:00:01\n",
      "   ------------------------------------ --- 10.7/11.6 MB 6.1 MB/s eta 0:00:01\n",
      "   -------------------------------------- - 11.1/11.6 MB 5.9 MB/s eta 0:00:01\n",
      "   -------------------------------------- - 11.3/11.6 MB 5.7 MB/s eta 0:00:01\n",
      "   ---------------------------------------  11.5/11.6 MB 5.6 MB/s eta 0:00:01\n",
      "   ---------------------------------------  11.6/11.6 MB 5.5 MB/s eta 0:00:01\n",
      "   ---------------------------------------  11.6/11.6 MB 5.5 MB/s eta 0:00:01\n",
      "   ---------------------------------------- 11.6/11.6 MB 5.3 MB/s eta 0:00:00\n",
      "Downloading numpy-2.1.0-cp311-cp311-win_amd64.whl (12.9 MB)\n",
      "   ---------------------------------------- 0.0/12.9 MB ? eta -:--:--\n",
      "    --------------------------------------- 0.2/12.9 MB 6.3 MB/s eta 0:00:03\n",
      "   - -------------------------------------- 0.5/12.9 MB 6.0 MB/s eta 0:00:03\n",
      "   -- ------------------------------------- 0.9/12.9 MB 6.6 MB/s eta 0:00:02\n",
      "   ---- ----------------------------------- 1.3/12.9 MB 7.0 MB/s eta 0:00:02\n",
      "   ----- ---------------------------------- 1.8/12.9 MB 7.1 MB/s eta 0:00:02\n",
      "   ------ --------------------------------- 2.1/12.9 MB 7.2 MB/s eta 0:00:02\n",
      "   -------- ------------------------------- 2.7/12.9 MB 7.8 MB/s eta 0:00:02\n",
      "   --------- ------------------------------ 3.2/12.9 MB 8.2 MB/s eta 0:00:02\n",
      "   ----------- ---------------------------- 3.6/12.9 MB 8.2 MB/s eta 0:00:02\n",
      "   ------------ --------------------------- 3.9/12.9 MB 8.1 MB/s eta 0:00:02\n",
      "   ------------ --------------------------- 4.1/12.9 MB 7.8 MB/s eta 0:00:02\n",
      "   ------------- -------------------------- 4.2/12.9 MB 7.1 MB/s eta 0:00:02\n",
      "   ------------- -------------------------- 4.4/12.9 MB 6.7 MB/s eta 0:00:02\n",
      "   -------------- ------------------------- 4.5/12.9 MB 6.7 MB/s eta 0:00:02\n",
      "   -------------- ------------------------- 4.8/12.9 MB 6.5 MB/s eta 0:00:02\n",
      "   --------------- ------------------------ 5.1/12.9 MB 6.4 MB/s eta 0:00:02\n",
      "   ---------------- ----------------------- 5.4/12.9 MB 6.5 MB/s eta 0:00:02\n",
      "   ----------------- ---------------------- 5.7/12.9 MB 6.3 MB/s eta 0:00:02\n",
      "   ------------------ --------------------- 6.1/12.9 MB 6.4 MB/s eta 0:00:02\n",
      "   -------------------- ------------------- 6.5/12.9 MB 6.5 MB/s eta 0:00:01\n",
      "   ---------------------- ----------------- 7.1/12.9 MB 6.8 MB/s eta 0:00:01\n",
      "   ----------------------- ---------------- 7.6/12.9 MB 7.0 MB/s eta 0:00:01\n",
      "   ------------------------ --------------- 8.0/12.9 MB 6.9 MB/s eta 0:00:01\n",
      "   ------------------------- -------------- 8.2/12.9 MB 6.8 MB/s eta 0:00:01\n",
      "   -------------------------- ------------- 8.4/12.9 MB 6.7 MB/s eta 0:00:01\n",
      "   -------------------------- ------------- 8.6/12.9 MB 6.6 MB/s eta 0:00:01\n",
      "   --------------------------- ------------ 8.9/12.9 MB 6.5 MB/s eta 0:00:01\n",
      "   ---------------------------- ----------- 9.0/12.9 MB 6.4 MB/s eta 0:00:01\n",
      "   ----------------------------- ---------- 9.3/12.9 MB 6.4 MB/s eta 0:00:01\n",
      "   ----------------------------- ---------- 9.6/12.9 MB 6.3 MB/s eta 0:00:01\n",
      "   ------------------------------ --------- 9.9/12.9 MB 6.3 MB/s eta 0:00:01\n",
      "   ------------------------------- -------- 10.3/12.9 MB 6.4 MB/s eta 0:00:01\n",
      "   -------------------------------- ------- 10.5/12.9 MB 6.4 MB/s eta 0:00:01\n",
      "   --------------------------------- ------ 10.9/12.9 MB 6.4 MB/s eta 0:00:01\n",
      "   ---------------------------------- ----- 11.2/12.9 MB 6.3 MB/s eta 0:00:01\n",
      "   ----------------------------------- ---- 11.4/12.9 MB 6.3 MB/s eta 0:00:01\n",
      "   ------------------------------------- -- 11.9/12.9 MB 6.3 MB/s eta 0:00:01\n",
      "   ------------------------------------- -- 12.2/12.9 MB 6.3 MB/s eta 0:00:01\n",
      "   -------------------------------------- - 12.3/12.9 MB 6.2 MB/s eta 0:00:01\n",
      "   ---------------------------------------  12.8/12.9 MB 6.1 MB/s eta 0:00:01\n",
      "   ---------------------------------------  12.9/12.9 MB 6.1 MB/s eta 0:00:01\n",
      "   ---------------------------------------- 12.9/12.9 MB 5.8 MB/s eta 0:00:00\n",
      "Downloading pytz-2024.1-py2.py3-none-any.whl (505 kB)\n",
      "   ---------------------------------------- 0.0/505.5 kB ? eta -:--:--\n",
      "   --------------------------------------  501.8/505.5 kB 15.9 MB/s eta 0:00:01\n",
      "   ---------------------------------------- 505.5/505.5 kB 8.0 MB/s eta 0:00:00\n",
      "Downloading tzdata-2024.1-py2.py3-none-any.whl (345 kB)\n",
      "   ---------------------------------------- 0.0/345.4 kB ? eta -:--:--\n",
      "   ---------------------------------------- 345.4/345.4 kB 5.3 MB/s eta 0:00:00\n",
      "Installing collected packages: pytz, tzdata, numpy, pandas\n",
      "Successfully installed numpy-2.1.0 pandas-2.2.2 pytz-2024.1 tzdata-2024.1\n",
      "Note: you may need to restart the kernel to use updated packages.\n"
     ]
    },
    {
     "name": "stderr",
     "output_type": "stream",
     "text": [
      "\n",
      "[notice] A new release of pip is available: 24.0 -> 24.2\n",
      "[notice] To update, run: python.exe -m pip install --upgrade pip\n"
     ]
    }
   ],
   "source": [
    "pip install pandas"
   ]
  },
  {
   "cell_type": "code",
   "execution_count": 24,
   "metadata": {},
   "outputs": [],
   "source": [
    "import pandas as pd\n",
    "from kafka import KafkaProducer\n",
    "from time import sleep\n",
    "from json import dumps\n",
    "import json"
   ]
  },
  {
   "cell_type": "code",
   "execution_count": 25,
   "metadata": {},
   "outputs": [],
   "source": [
    "producer = KafkaProducer(bootstrap_servers=['54.84.103.249:9092'],\n",
    "                         value_serializer=lambda x: dumps(x).encode('utf-8'))"
   ]
  },
  {
   "cell_type": "code",
   "execution_count": 11,
   "metadata": {},
   "outputs": [
    {
     "data": {
      "text/plain": [
       "<kafka.producer.future.FutureRecordMetadata at 0x20db8b5d190>"
      ]
     },
     "execution_count": 11,
     "metadata": {},
     "output_type": "execute_result"
    }
   ],
   "source": [
    "producer.send('demo_test',value=\"{'test':'pawan'}\")"
   ]
  },
  {
   "cell_type": "code",
   "execution_count": 26,
   "metadata": {},
   "outputs": [],
   "source": [
    "df = pd.read_csv(\"data/indexProcessed.csv\")"
   ]
  },
  {
   "cell_type": "code",
   "execution_count": 13,
   "metadata": {},
   "outputs": [
    {
     "data": {
      "text/html": [
       "<div>\n",
       "<style scoped>\n",
       "    .dataframe tbody tr th:only-of-type {\n",
       "        vertical-align: middle;\n",
       "    }\n",
       "\n",
       "    .dataframe tbody tr th {\n",
       "        vertical-align: top;\n",
       "    }\n",
       "\n",
       "    .dataframe thead th {\n",
       "        text-align: right;\n",
       "    }\n",
       "</style>\n",
       "<table border=\"1\" class=\"dataframe\">\n",
       "  <thead>\n",
       "    <tr style=\"text-align: right;\">\n",
       "      <th></th>\n",
       "      <th>Index</th>\n",
       "      <th>Date</th>\n",
       "      <th>Open</th>\n",
       "      <th>High</th>\n",
       "      <th>Low</th>\n",
       "      <th>Close</th>\n",
       "      <th>Adj Close</th>\n",
       "      <th>Volume</th>\n",
       "      <th>CloseUSD</th>\n",
       "    </tr>\n",
       "  </thead>\n",
       "  <tbody>\n",
       "    <tr>\n",
       "      <th>0</th>\n",
       "      <td>HSI</td>\n",
       "      <td>1986-12-31</td>\n",
       "      <td>2568.300049</td>\n",
       "      <td>2568.300049</td>\n",
       "      <td>2568.300049</td>\n",
       "      <td>2568.300049</td>\n",
       "      <td>2568.300049</td>\n",
       "      <td>0.0</td>\n",
       "      <td>333.879006</td>\n",
       "    </tr>\n",
       "    <tr>\n",
       "      <th>1</th>\n",
       "      <td>HSI</td>\n",
       "      <td>1987-01-02</td>\n",
       "      <td>2540.100098</td>\n",
       "      <td>2540.100098</td>\n",
       "      <td>2540.100098</td>\n",
       "      <td>2540.100098</td>\n",
       "      <td>2540.100098</td>\n",
       "      <td>0.0</td>\n",
       "      <td>330.213013</td>\n",
       "    </tr>\n",
       "    <tr>\n",
       "      <th>2</th>\n",
       "      <td>HSI</td>\n",
       "      <td>1987-01-05</td>\n",
       "      <td>2552.399902</td>\n",
       "      <td>2552.399902</td>\n",
       "      <td>2552.399902</td>\n",
       "      <td>2552.399902</td>\n",
       "      <td>2552.399902</td>\n",
       "      <td>0.0</td>\n",
       "      <td>331.811987</td>\n",
       "    </tr>\n",
       "    <tr>\n",
       "      <th>3</th>\n",
       "      <td>HSI</td>\n",
       "      <td>1987-01-06</td>\n",
       "      <td>2583.899902</td>\n",
       "      <td>2583.899902</td>\n",
       "      <td>2583.899902</td>\n",
       "      <td>2583.899902</td>\n",
       "      <td>2583.899902</td>\n",
       "      <td>0.0</td>\n",
       "      <td>335.906987</td>\n",
       "    </tr>\n",
       "    <tr>\n",
       "      <th>4</th>\n",
       "      <td>HSI</td>\n",
       "      <td>1987-01-07</td>\n",
       "      <td>2607.100098</td>\n",
       "      <td>2607.100098</td>\n",
       "      <td>2607.100098</td>\n",
       "      <td>2607.100098</td>\n",
       "      <td>2607.100098</td>\n",
       "      <td>0.0</td>\n",
       "      <td>338.923013</td>\n",
       "    </tr>\n",
       "  </tbody>\n",
       "</table>\n",
       "</div>"
      ],
      "text/plain": [
       "  Index        Date         Open         High          Low        Close  \\\n",
       "0   HSI  1986-12-31  2568.300049  2568.300049  2568.300049  2568.300049   \n",
       "1   HSI  1987-01-02  2540.100098  2540.100098  2540.100098  2540.100098   \n",
       "2   HSI  1987-01-05  2552.399902  2552.399902  2552.399902  2552.399902   \n",
       "3   HSI  1987-01-06  2583.899902  2583.899902  2583.899902  2583.899902   \n",
       "4   HSI  1987-01-07  2607.100098  2607.100098  2607.100098  2607.100098   \n",
       "\n",
       "     Adj Close  Volume    CloseUSD  \n",
       "0  2568.300049     0.0  333.879006  \n",
       "1  2540.100098     0.0  330.213013  \n",
       "2  2552.399902     0.0  331.811987  \n",
       "3  2583.899902     0.0  335.906987  \n",
       "4  2607.100098     0.0  338.923013  "
      ]
     },
     "execution_count": 13,
     "metadata": {},
     "output_type": "execute_result"
    }
   ],
   "source": [
    "df.head()"
   ]
  },
  {
   "cell_type": "code",
   "execution_count": 17,
   "metadata": {},
   "outputs": [
    {
     "data": {
      "text/plain": [
       "[{'Index': 'HSI',\n",
       "  'Date': '1991-05-13',\n",
       "  'Open': 3750.0,\n",
       "  'High': 3786.0,\n",
       "  'Low': 3749.0,\n",
       "  'Close': 3767.0,\n",
       "  'Adj Close': 3767.0,\n",
       "  'Volume': 0.0,\n",
       "  'CloseUSD': 489.71}]"
      ]
     },
     "execution_count": 17,
     "metadata": {},
     "output_type": "execute_result"
    }
   ],
   "source": [
    "df.sample(1).to_dict(orient=\"records\")"
   ]
  },
  {
   "cell_type": "code",
   "execution_count": 27,
   "metadata": {},
   "outputs": [
    {
     "ename": "KeyboardInterrupt",
     "evalue": "",
     "output_type": "error",
     "traceback": [
      "\u001b[1;31m---------------------------------------------------------------------------\u001b[0m",
      "\u001b[1;31mKeyboardInterrupt\u001b[0m                         Traceback (most recent call last)",
      "Cell \u001b[1;32mIn[27], line 2\u001b[0m\n\u001b[0;32m      1\u001b[0m \u001b[38;5;28;01mwhile\u001b[39;00m \u001b[38;5;28;01mTrue\u001b[39;00m:\n\u001b[1;32m----> 2\u001b[0m     dict_stock\u001b[38;5;241m=\u001b[39m\u001b[43mdf\u001b[49m\u001b[38;5;241;43m.\u001b[39;49m\u001b[43msample\u001b[49m\u001b[43m(\u001b[49m\u001b[38;5;241;43m1\u001b[39;49m\u001b[43m)\u001b[49m\u001b[38;5;241m.\u001b[39mto_dict(orient\u001b[38;5;241m=\u001b[39m\u001b[38;5;124m\"\u001b[39m\u001b[38;5;124mrecords\u001b[39m\u001b[38;5;124m\"\u001b[39m)\n\u001b[0;32m      3\u001b[0m     producer\u001b[38;5;241m.\u001b[39msend(\u001b[38;5;124m'\u001b[39m\u001b[38;5;124mdemo_test\u001b[39m\u001b[38;5;124m'\u001b[39m,value\u001b[38;5;241m=\u001b[39mdict_stock)\n",
      "File \u001b[1;32mc:\\Users\\Suganth A\\AppData\\Local\\Programs\\Python\\Python311\\Lib\\site-packages\\pandas\\core\\generic.py:6118\u001b[0m, in \u001b[0;36mNDFrame.sample\u001b[1;34m(self, n, frac, replace, weights, random_state, axis, ignore_index)\u001b[0m\n\u001b[0;32m   6115\u001b[0m \u001b[38;5;28;01mif\u001b[39;00m weights \u001b[38;5;129;01mis\u001b[39;00m \u001b[38;5;129;01mnot\u001b[39;00m \u001b[38;5;28;01mNone\u001b[39;00m:\n\u001b[0;32m   6116\u001b[0m     weights \u001b[38;5;241m=\u001b[39m sample\u001b[38;5;241m.\u001b[39mpreprocess_weights(\u001b[38;5;28mself\u001b[39m, weights, axis)\n\u001b[1;32m-> 6118\u001b[0m sampled_indices \u001b[38;5;241m=\u001b[39m \u001b[43msample\u001b[49m\u001b[38;5;241;43m.\u001b[39;49m\u001b[43msample\u001b[49m\u001b[43m(\u001b[49m\u001b[43mobj_len\u001b[49m\u001b[43m,\u001b[49m\u001b[43m \u001b[49m\u001b[43msize\u001b[49m\u001b[43m,\u001b[49m\u001b[43m \u001b[49m\u001b[43mreplace\u001b[49m\u001b[43m,\u001b[49m\u001b[43m \u001b[49m\u001b[43mweights\u001b[49m\u001b[43m,\u001b[49m\u001b[43m \u001b[49m\u001b[43mrs\u001b[49m\u001b[43m)\u001b[49m\n\u001b[0;32m   6119\u001b[0m result \u001b[38;5;241m=\u001b[39m \u001b[38;5;28mself\u001b[39m\u001b[38;5;241m.\u001b[39mtake(sampled_indices, axis\u001b[38;5;241m=\u001b[39maxis)\n\u001b[0;32m   6121\u001b[0m \u001b[38;5;28;01mif\u001b[39;00m ignore_index:\n",
      "File \u001b[1;32mc:\\Users\\Suganth A\\AppData\\Local\\Programs\\Python\\Python311\\Lib\\site-packages\\pandas\\core\\sample.py:152\u001b[0m, in \u001b[0;36msample\u001b[1;34m(obj_len, size, replace, weights, random_state)\u001b[0m\n\u001b[0;32m    149\u001b[0m     \u001b[38;5;28;01melse\u001b[39;00m:\n\u001b[0;32m    150\u001b[0m         \u001b[38;5;28;01mraise\u001b[39;00m \u001b[38;5;167;01mValueError\u001b[39;00m(\u001b[38;5;124m\"\u001b[39m\u001b[38;5;124mInvalid weights: weights sum to zero\u001b[39m\u001b[38;5;124m\"\u001b[39m)\n\u001b[1;32m--> 152\u001b[0m \u001b[38;5;28;01mreturn\u001b[39;00m \u001b[43mrandom_state\u001b[49m\u001b[38;5;241;43m.\u001b[39;49m\u001b[43mchoice\u001b[49m\u001b[43m(\u001b[49m\u001b[43mobj_len\u001b[49m\u001b[43m,\u001b[49m\u001b[43m \u001b[49m\u001b[43msize\u001b[49m\u001b[38;5;241;43m=\u001b[39;49m\u001b[43msize\u001b[49m\u001b[43m,\u001b[49m\u001b[43m \u001b[49m\u001b[43mreplace\u001b[49m\u001b[38;5;241;43m=\u001b[39;49m\u001b[43mreplace\u001b[49m\u001b[43m,\u001b[49m\u001b[43m \u001b[49m\u001b[43mp\u001b[49m\u001b[38;5;241;43m=\u001b[39;49m\u001b[43mweights\u001b[49m\u001b[43m)\u001b[49m\u001b[38;5;241m.\u001b[39mastype(\n\u001b[0;32m    153\u001b[0m     np\u001b[38;5;241m.\u001b[39mintp, copy\u001b[38;5;241m=\u001b[39m\u001b[38;5;28;01mFalse\u001b[39;00m\n\u001b[0;32m    154\u001b[0m )\n",
      "\u001b[1;31mKeyboardInterrupt\u001b[0m: "
     ]
    }
   ],
   "source": [
    "while True:\n",
    "    dict_stock=df.sample(1).to_dict(orient=\"records\")\n",
    "    producer.send('demo_test',value=dict_stock)\n",
    "    sleep(2)\n",
    "    "
   ]
  },
  {
   "cell_type": "code",
   "execution_count": 22,
   "metadata": {},
   "outputs": [],
   "source": [
    "producer.flush()"
   ]
  }
 ],
 "metadata": {
  "kernelspec": {
   "display_name": "Python 3",
   "language": "python",
   "name": "python3"
  },
  "language_info": {
   "codemirror_mode": {
    "name": "ipython",
    "version": 3
   },
   "file_extension": ".py",
   "mimetype": "text/x-python",
   "name": "python",
   "nbconvert_exporter": "python",
   "pygments_lexer": "ipython3",
   "version": "3.11.8"
  }
 },
 "nbformat": 4,
 "nbformat_minor": 2
}
